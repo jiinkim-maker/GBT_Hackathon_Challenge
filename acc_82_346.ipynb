{
  "nbformat": 4,
  "nbformat_minor": 0,
  "metadata": {
    "colab": {
      "provenance": []
    },
    "kernelspec": {
      "name": "python3",
      "display_name": "Python 3"
    },
    "language_info": {
      "name": "python"
    }
  },
  "cells": [
    {
      "cell_type": "code",
      "source": [
        "import pandas as pd\n",
        "from sklearn.ensemble import RandomForestClassifier\n",
        "from sklearn.preprocessing import LabelEncoder\n",
        "from sklearn.preprocessing import StandardScaler\n",
        "\n",
        "# 데이터 불러오기\n",
        "train_data = pd.read_csv('/content/drive/MyDrive/23데크캠/GBT_Hackerthon/train.csv')\n",
        "test_data = pd.read_csv('/content/drive/MyDrive/23데크캠/GBT_Hackerthon/test.csv')\n",
        "\n",
        "# 필요한 column만 선택\n",
        "features = ['COMPONENT_ARBITRARY', 'ANONYMOUS_1', 'YEAR', 'ANONYMOUS_2', 'AG', 'CO', 'CR', 'CU', 'FE', 'H2O', 'MN', 'MO', 'NI', 'PQINDEX', 'TI', 'V', 'V40', 'ZN']\n",
        "X_train = train_data[features]\n",
        "y_train = train_data['Y_LABEL']\n",
        "\n",
        "X_test = test_data[features]\n",
        "\n",
        "# 범주형 특성 label encoding\n",
        "label_encoders = {}\n",
        "\n",
        "for col in ['COMPONENT_ARBITRARY', 'YEAR']:\n",
        "    le = LabelEncoder()\n",
        "    X_train[col] = le.fit_transform(X_train[col])\n",
        "    X_test[col] = le.transform(X_test[col])  # 테스트 데이터 변환을 위해 훈련 데이터의 encoder를 사용\n",
        "    label_encoders[col] = le\n",
        "\n",
        "class_weights = {0: 13.0, 1: 1.0}\n",
        "# 데이터 정규화 (Standardization)\n",
        "scaler = StandardScaler()\n",
        "X_train_scaled = scaler.fit_transform(X_train)\n",
        "X_test_scaled = scaler.transform(X_test)\n",
        "\n",
        "# NaN 값 평균으로 대체\n",
        "X_train_scaled = pd.DataFrame(X_train_scaled, columns=features)\n",
        "X_train_scaled = X_train_scaled.fillna(X_train_scaled.mean())\n",
        "X_test_scaled = pd.DataFrame(X_test_scaled, columns=features)\n",
        "X_test_scaled = X_test_scaled.fillna(X_train_scaled.mean())\n",
        "\n",
        "# Random Forest 모델 학습\n",
        "clf = RandomForestClassifier(n_estimators=100, random_state=42, class_weight = class_weights)\n",
        "clf.fit(X_train_scaled, y_train)\n",
        "\n",
        "# test.csv 데이터로 예측\n",
        "y_pred = clf.predict(X_test_scaled)\n",
        "\n",
        "# 예측 결과를 확인하려면 출력하거나 저장하면 됩니다.\n",
        "print(y_pred)\n",
        "\n",
        "# Submission\n",
        "submit = pd.read_csv('/content/drive/MyDrive/23데크캠/GBT_Hackerthon/sample_submission.csv')\n",
        "submit['Y_LABEL'] = y_pred\n",
        "submit.to_csv('/content/drive/MyDrive/23데크캠/GBT_Hackerthon/sunday_final.csv', index=False)"
      ],
      "metadata": {
        "id": "ioREtTkMOl8g",
        "colab": {
          "base_uri": "https://localhost:8080/"
        },
        "outputId": "1d38ea9c-c6b2-4303-a134-939f78da6ba2"
      },
      "execution_count": 2,
      "outputs": [
        {
          "output_type": "stream",
          "name": "stderr",
          "text": [
            "<ipython-input-2-558f4fd3a603>:22: SettingWithCopyWarning: \n",
            "A value is trying to be set on a copy of a slice from a DataFrame.\n",
            "Try using .loc[row_indexer,col_indexer] = value instead\n",
            "\n",
            "See the caveats in the documentation: https://pandas.pydata.org/pandas-docs/stable/user_guide/indexing.html#returning-a-view-versus-a-copy\n",
            "  X_train[col] = le.fit_transform(X_train[col])\n",
            "<ipython-input-2-558f4fd3a603>:23: SettingWithCopyWarning: \n",
            "A value is trying to be set on a copy of a slice from a DataFrame.\n",
            "Try using .loc[row_indexer,col_indexer] = value instead\n",
            "\n",
            "See the caveats in the documentation: https://pandas.pydata.org/pandas-docs/stable/user_guide/indexing.html#returning-a-view-versus-a-copy\n",
            "  X_test[col] = le.transform(X_test[col])  # 테스트 데이터 변환을 위해 훈련 데이터의 encoder를 사용\n",
            "<ipython-input-2-558f4fd3a603>:22: SettingWithCopyWarning: \n",
            "A value is trying to be set on a copy of a slice from a DataFrame.\n",
            "Try using .loc[row_indexer,col_indexer] = value instead\n",
            "\n",
            "See the caveats in the documentation: https://pandas.pydata.org/pandas-docs/stable/user_guide/indexing.html#returning-a-view-versus-a-copy\n",
            "  X_train[col] = le.fit_transform(X_train[col])\n",
            "<ipython-input-2-558f4fd3a603>:23: SettingWithCopyWarning: \n",
            "A value is trying to be set on a copy of a slice from a DataFrame.\n",
            "Try using .loc[row_indexer,col_indexer] = value instead\n",
            "\n",
            "See the caveats in the documentation: https://pandas.pydata.org/pandas-docs/stable/user_guide/indexing.html#returning-a-view-versus-a-copy\n",
            "  X_test[col] = le.transform(X_test[col])  # 테스트 데이터 변환을 위해 훈련 데이터의 encoder를 사용\n"
          ]
        },
        {
          "output_type": "stream",
          "name": "stdout",
          "text": [
            "[0 0 0 ... 0 0 1]\n"
          ]
        }
      ]
    }
  ]
}